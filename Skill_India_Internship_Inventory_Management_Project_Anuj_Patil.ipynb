{
  "nbformat": 4,
  "nbformat_minor": 0,
  "metadata": {
    "colab": {
      "name": " Skill India Internship Inventory Management Project Anuj Patil.ipynb",
      "provenance": [],
      "collapsed_sections": []
    },
    "kernelspec": {
      "display_name": "Python 3 (ipykernel)",
      "language": "python",
      "name": "python3"
    },
    "language_info": {
      "codemirror_mode": {
        "name": "ipython",
        "version": 3
      },
      "file_extension": ".py",
      "mimetype": "text/x-python",
      "name": "python",
      "nbconvert_exporter": "python",
      "pygments_lexer": "ipython3",
      "version": "3.8.10"
    }
  },
  "cells": [
    {
      "cell_type": "code",
      "metadata": {
        "id": "7hS59NbbFTZe"
      },
      "source": [
        "import json"
      ],
      "execution_count": null,
      "outputs": []
    },
    {
      "cell_type": "code",
      "metadata": {
        "id": "nr8bC6nOFbRI"
      },
      "source": [
        "Products =[  [1001 ,  \"Coconut Oil\",  50 ,  100, \"Hair oil\" ],\n",
        "             [1002  ,\"Sunflower Oil\",  130 ,  25,  \"Ediable oil\" ],\n",
        "             [1003 ,\"Coconut Biscuts\",  30 ,  420,  \"Snacks\" ],\n",
        "             [1004 , \"Mari Biscuts\",  20 ,  120,  \"Snacks\" ] ,\n",
        "             [1005 , \"Krack Jack Biscuts\",  30 ,  40,  \"Snacks\" ],\n",
        "             [1006 ,\"Sugar\",  55 ,  40,  \"Essientials\" ],\n",
        "             [1007 ,\"Jaggery\",  90 ,  40,  \"Additives\" ],\n",
        "             [1008 ,\"Kurkure Masala masti\",  30 ,  40,  \"Snacks\"],\n",
        "             [1009 ,\"Kurkure Magic Masala\",  30 ,  40,  \"Snacks\"],\n",
        "             [1010 ,\"Maggi Masala\",  40 ,  40,  \"Additives\"],\n",
        "             [1011  ,\"Lays\",  30 ,  140,  \"Snacks\"],\n",
        "             [1012  ,\"5 Star\",  10 , 440,  \"Chocolate\"],\n",
        "             [1013 ,\"Dairy Milk\",  20 ,  200,  \"Chocolate\"],\n",
        "             [1014 ,\"Bourboun\",  30 ,  40,  \"Snacks\"],\n",
        "             [1015 ,\"Dairy Milk Silk\",  130 ,  100,  \"Chocolate\"],\n",
        "             [1016  ,\"Maggi\",  70 ,  100,  \"Noodles\"],\n",
        "             [1017 ,\"Maggi Veg aata \",  90 ,  100,  \"Noodles\"],\n",
        "             [1018 ,\"Sunfest Yeppi\",  60 ,  100,  \"Noodles\"],\n",
        "             [1019  ,\"Moong\",  120 ,  100,  \"Pulses\"],\n",
        "             [1020 ,\"Harbara\",  140 ,  100,  \"Pulses\"],\n",
        "             [1021 ,\"Masoor\",  110 ,  100,  \"Pulses\"],\n",
        "             [1022 ,\"Toor\",  140 ,  100,  \"Pulses\"],\n",
        "             [1023 ,\"Basmati \",  140 ,  100,  \"Rice\"],\n",
        "             [1024 ,\"Black Rice\",  200 ,  100,  \"Rice\"],\n",
        "             [1025 ,\"Brown Rice\",  200 ,  100,  \"Rice\"],\n",
        "             [1026  ,\"Red Rice\",  210 ,  100,  \"Rice\"],\n",
        "             [1027 ,\"Coke\",  40 ,  400,  \"Soft Drinks\"],\n",
        "             [1028 ,\"Pepsi\",  40 ,  400,  \"Soft Drinks\"],\n",
        "             [1029 , \"Frooti\",  40 ,  400,  \"Soft Drinks\"],\n",
        "             [1030 , \"Sprite\",  40 ,  400,  \"Soft Drinks\"],\n",
        "\n",
        "]"
      ],
      "execution_count": null,
      "outputs": []
    },
    {
      "cell_type": "code",
      "metadata": {
        "colab": {
          "base_uri": "https://localhost:8080/"
        },
        "id": "G-JKfx0fL5Og",
        "outputId": "0a258617-61b2-4e56-a0ce-e29d69c7ae19"
      },
      "source": [
        "type(Products)"
      ],
      "execution_count": null,
      "outputs": [
        {
          "output_type": "execute_result",
          "data": {
            "text/plain": [
              "list"
            ]
          },
          "metadata": {},
          "execution_count": 3
        }
      ]
    },
    {
      "cell_type": "code",
      "metadata": {
        "colab": {
          "base_uri": "https://localhost:8080/",
          "height": 35
        },
        "id": "kIwxF_A1FkLt",
        "outputId": "3a0761df-5958-42bb-a137-4dd43b748a74"
      },
      "source": [
        "Products[0][1]"
      ],
      "execution_count": null,
      "outputs": [
        {
          "output_type": "execute_result",
          "data": {
            "application/vnd.google.colaboratory.intrinsic+json": {
              "type": "string"
            },
            "text/plain": [
              "'Coconut Oil'"
            ]
          },
          "metadata": {},
          "execution_count": 4
        }
      ]
    },
    {
      "cell_type": "code",
      "metadata": {
        "id": "odaAJDD5PmkM"
      },
      "source": [
        "js = json.dumps(Products)"
      ],
      "execution_count": null,
      "outputs": []
    },
    {
      "cell_type": "code",
      "metadata": {
        "id": "UeFdsc5fQlML"
      },
      "source": [
        "fd = open(\"Record.json\",'w')\n",
        "\n",
        "fd.write(js)\n",
        "\n",
        "fd.close()"
      ],
      "execution_count": null,
      "outputs": []
    },
    {
      "cell_type": "code",
      "metadata": {
        "id": "q8EjAVRTQxKL"
      },
      "source": [
        "fd = open(\"Record.json\",'r')\n",
        "\n",
        "txt = fd.read()\n",
        "\n",
        "fd.close()"
      ],
      "execution_count": null,
      "outputs": []
    },
    {
      "cell_type": "code",
      "metadata": {
        "id": "ofzJQX18RDz9"
      },
      "source": [
        "Products = json.loads(txt)"
      ],
      "execution_count": null,
      "outputs": []
    },
    {
      "cell_type": "code",
      "metadata": {
        "colab": {
          "base_uri": "https://localhost:8080/"
        },
        "id": "TjOgKca4RMaE",
        "outputId": "f4f1c21f-9c6b-445f-da9b-03a03e8728fc"
      },
      "source": [
        "Products[0][0]"
      ],
      "execution_count": null,
      "outputs": [
        {
          "output_type": "execute_result",
          "data": {
            "text/plain": [
              "1001"
            ]
          },
          "metadata": {},
          "execution_count": 9
        }
      ]
    },
    {
      "cell_type": "code",
      "metadata": {
        "id": "53eWOuj4S9JB"
      },
      "source": [
        "ui_prod  = int(input(\"Enter the product_Id: \"))\n",
        "ui_quant = int(input(\"Enter the quantity: \"))\n",
        "\n",
        "for product in Products :    \n",
        "    print(product[0])\n",
        "    if(product[0] == ui_prod):\n",
        "        print(\"***********************\")\n",
        "        print(\"Product ID: \", product[0])\n",
        "        print(\"Name: \", product[1])\n",
        "        print(\"Price: \",product[2])\n",
        "        print(\"Product Type:\",product[4])\n",
        "        print(\"Quant: \",ui_quant)\n",
        "        print(\"------------------------\")\n",
        "        print(\"Billing Amout: \", ui_quant * int(product[2]))\n",
        "        print(\"***********************\")\n",
        "        Bill = ui_quant * int(product[2])\n",
        "        break\n",
        "    \n",
        "for product in Products:\n",
        "    \n",
        "    if(ui_prod == product[0]):\n",
        "        product[3] = str(int(product[3]) - ui_quant)\n",
        "    "
      ],
      "execution_count": null,
      "outputs": []
    },
    {
      "cell_type": "code",
      "metadata": {
        "colab": {
          "base_uri": "https://localhost:8080/"
        },
        "id": "YWdXPvJH6z0w",
        "outputId": "e91155cf-4da0-4a20-a0c6-d7d61ba150e0"
      },
      "source": [
        "Bill"
      ],
      "execution_count": null,
      "outputs": [
        {
          "output_type": "execute_result",
          "data": {
            "text/plain": [
              "500"
            ]
          },
          "metadata": {},
          "execution_count": 58
        }
      ]
    },
    {
      "cell_type": "code",
      "metadata": {
        "id": "bdYG3-zllj_z"
      },
      "source": [
        "\n",
        "js = json.dumps(Products)\n",
        "\n",
        "fd = open(\"Record.json\",'w')\n",
        "fd.write(js)\n",
        "fd.close()"
      ],
      "execution_count": null,
      "outputs": []
    },
    {
      "cell_type": "code",
      "metadata": {
        "colab": {
          "base_uri": "https://localhost:8080/"
        },
        "id": "OheM6PKYtLpS",
        "outputId": "318f1f08-e395-46f5-b56f-069b3c7d709a"
      },
      "source": [
        "Products"
      ],
      "execution_count": null,
      "outputs": [
        {
          "output_type": "execute_result",
          "data": {
            "text/plain": [
              "[[1001, 'Coconut Oil', 50, '80', 'Hair oil'],\n",
              " [1002, 'Sunflower Oil', 130, 25, 'Ediable oil'],\n",
              " [1003, 'Coconut Biscuts', 30, 420, 'Snacks'],\n",
              " [1004, 'Mari Biscuts', 20, 120, 'Snacks'],\n",
              " [1005, 'Krack Jack Biscuts', 30, '30', 'Snacks'],\n",
              " [1006, 'Sugar', 55, 40, 'Essientials'],\n",
              " [1007, 'Jaggery', 90, 40, 'Additives'],\n",
              " [1008, 'Kurkure Masala masti', 30, 40, 'Snacks'],\n",
              " [1009, 'Kurkure Magic Masala', 30, 40, 'Snacks'],\n",
              " [1010, 'Maggi Masala', 40, 40, 'Additives'],\n",
              " [1011, 'Lays', 30, 140, 'Snacks'],\n",
              " [1012, '5 Star', 10, 440, 'Chocolate'],\n",
              " [1013, 'Dairy Milk', 20, 200, 'Chocolate'],\n",
              " [1014, 'Bourboun', 30, 40, 'Snacks'],\n",
              " [1015, 'Dairy Milk Silk', 130, 100, 'Chocolate'],\n",
              " [1016, 'Maggi', 70, 100, 'Noodles'],\n",
              " [1017, 'Maggi Veg aata ', 90, 100, 'Noodles'],\n",
              " [1018, 'Sunfest Yeppi', 60, 100, 'Noodles'],\n",
              " [1019, 'Moong', 120, 100, 'Pulses'],\n",
              " [1020, 'Harbara', 140, 100, 'Pulses'],\n",
              " [1021, 'Masoor', 110, 100, 'Pulses'],\n",
              " [1022, 'Toor', 140, 100, 'Pulses'],\n",
              " [1023, 'Basmati ', 140, 100, 'Rice'],\n",
              " [1024, 'Black Rice', 200, 100, 'Rice'],\n",
              " [1025, 'Brown Rice', 200, 100, 'Rice'],\n",
              " [1026, 'Red Rice', 210, 100, 'Rice'],\n",
              " [1027, 'Coke', 40, 400, 'Soft Drinks'],\n",
              " [1028, 'Pepsi', 40, 400, 'Soft Drinks'],\n",
              " [1029, 'Frooti', 40, 400, 'Soft Drinks'],\n",
              " [1030, 'Sprite', 40, '390', 'Soft Drinks']]"
            ]
          },
          "metadata": {},
          "execution_count": 52
        }
      ]
    },
    {
      "cell_type": "code",
      "metadata": {
        "colab": {
          "base_uri": "https://localhost:8080/"
        },
        "id": "0BCPXN6wz4wj",
        "outputId": "7953b1c7-2214-4392-e4c6-24cbb564627e"
      },
      "source": [
        "{'Product ID' : ui_prod, 'Quantity' : ui_quant , \"Amount\" : Bill}\n",
        "\n"
      ],
      "execution_count": null,
      "outputs": [
        {
          "output_type": "execute_result",
          "data": {
            "text/plain": [
              "{'Amount': 500, 'prod': 1001, 'qn': 10}"
            ]
          },
          "metadata": {},
          "execution_count": 59
        }
      ]
    },
    {
      "cell_type": "code",
      "metadata": {
        "id": "C2xdkFwo7IpF"
      },
      "source": [
        "Sales = {1: {'Product ID' : ui_prod, 'Quantity' : ui_quant , \"Amount\" : Bill},\n",
        "         2: {'Product ID' : ui_prod, 'Quantity' : ui_quant , \"Amount\" : Bill},\n",
        "         3: {'Product ID' : ui_prod, 'Quantity' : ui_quant , \"Amount\" : Bill}}"
      ],
      "execution_count": null,
      "outputs": []
    },
    {
      "cell_type": "code",
      "metadata": {
        "colab": {
          "base_uri": "https://localhost:8080/"
        },
        "id": "WFC4WacV7ltb",
        "outputId": "706ee7be-5c27-455a-c38d-ed691166a244"
      },
      "source": [
        "Sales"
      ],
      "execution_count": null,
      "outputs": [
        {
          "output_type": "execute_result",
          "data": {
            "text/plain": [
              "{1: {'Amount': 500, 'Product ID': 1001, 'Quantity': 10},\n",
              " 2: {'Amount': 500, 'Product ID': 1001, 'Quantity': 10},\n",
              " 3: {'Amount': 500, 'Product ID': 1001, 'Quantity': 10}}"
            ]
          },
          "metadata": {},
          "execution_count": 61
        }
      ]
    },
    {
      "cell_type": "code",
      "metadata": {
        "id": "OKGoi08b7t3k"
      },
      "source": [
        "sale = json.dumps(Sales)"
      ],
      "execution_count": null,
      "outputs": []
    },
    {
      "cell_type": "code",
      "metadata": {
        "colab": {
          "base_uri": "https://localhost:8080/",
          "height": 52
        },
        "id": "AU8T0uZj71Kd",
        "outputId": "24acbdf3-4439-42a2-a4af-8b17b30dcd87"
      },
      "source": [
        "sale"
      ],
      "execution_count": null,
      "outputs": [
        {
          "output_type": "execute_result",
          "data": {
            "application/vnd.google.colaboratory.intrinsic+json": {
              "type": "string"
            },
            "text/plain": [
              "'{\"1\": {\"Product ID\": 1001, \"Quantity\": 10, \"Amount\": 500}, \"2\": {\"Product ID\": 1001, \"Quantity\": 10, \"Amount\": 500}, \"3\": {\"Product ID\": 1001, \"Quantity\": 10, \"Amount\": 500}}'"
            ]
          },
          "metadata": {},
          "execution_count": 64
        }
      ]
    },
    {
      "cell_type": "code",
      "metadata": {
        "id": "ct38CCQu8B_u"
      },
      "source": [
        "\n",
        "fd = open(\"Sales.json\",'w')\n",
        "fd.write(js)\n",
        "fd.close()"
      ],
      "execution_count": null,
      "outputs": []
    },
    {
      "cell_type": "code",
      "metadata": {
        "id": "5Ingehb88Izm"
      },
      "source": [
        "fd = open(\"Sales.json\",'r')\n",
        "\n",
        "txt = fd.read()\n",
        "\n",
        "fd.close()"
      ],
      "execution_count": null,
      "outputs": []
    }
  ]
}